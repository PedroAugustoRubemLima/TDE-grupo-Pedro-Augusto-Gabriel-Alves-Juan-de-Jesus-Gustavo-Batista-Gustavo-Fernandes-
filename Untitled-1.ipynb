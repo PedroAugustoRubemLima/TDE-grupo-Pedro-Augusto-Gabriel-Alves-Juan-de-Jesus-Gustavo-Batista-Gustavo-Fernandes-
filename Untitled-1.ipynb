{
 "cells": [
  {
   "cell_type": "code",
   "execution_count": 1,
   "metadata": {},
   "outputs": [
    {
     "name": "stdout",
     "output_type": "stream",
     "text": [
      "Bem-vindo ao jogo 'Adivinhe o que estou pensando'!\n",
      "Estou pensando em um número entre 1 e 100.\n",
      "Muito baixo! Tente novamente.\n",
      "Muito baixo! Tente novamente.\n",
      "Muito baixo! Tente novamente.\n",
      "Muito baixo! Tente novamente.\n",
      "Muito baixo! Tente novamente.\n",
      "Muito alto! Tente novamente.\n",
      "Muito baixo! Tente novamente.\n",
      "Muito baixo! Tente novamente.\n",
      "Muito baixo! Tente novamente.\n",
      "Muito baixo! Tente novamente.\n",
      "Muito baixo! Tente novamente.\n",
      "Muito baixo! Tente novamente.\n",
      "Muito baixo! Tente novamente.\n",
      "Muito baixo! Tente novamente.\n",
      "Muito baixo! Tente novamente.\n",
      "Muito baixo! Tente novamente.\n",
      "Muito baixo! Tente novamente.\n",
      "Muito baixo! Tente novamente.\n",
      "Muito baixo! Tente novamente.\n",
      "Parabéns! Você adivinhou o número em 20 tentativas.\n"
     ]
    }
   ],
   "source": [
    "import random\n",
    "\n",
    "def adivinhe_o_numero():\n",
    "    numero_secreto = random.randint(1, 100)\n",
    "    tentativas = 0\n",
    "    acertou = False\n",
    "    print(\"Bem-vindo ao jogo 'Adivinhe o que estou pensando'!\")\n",
    "    print(\"Estou pensando em um número entre 1 e 100.\")\n",
    "    while not acertou:\n",
    "        palpite = int(input(\"Digite seu palpite: \"))\n",
    "        tentativas += 1\n",
    "        if palpite < numero_secreto:\n",
    "            print(\"Muito baixo! Tente novamente.\")\n",
    "        elif palpite > numero_secreto:\n",
    "            print(\"Muito alto! Tente novamente.\")\n",
    "        else:\n",
    "            print(f\"Parabéns! Você adivinhou o número em {tentativas} tentativas.\")\n",
    "            acertou = True\n",
    "adivinhe_o_numero()"
   ]
  }
 ],
 "metadata": {
  "kernelspec": {
   "display_name": "Python 3",
   "language": "python",
   "name": "python3"
  },
  "language_info": {
   "codemirror_mode": {
    "name": "ipython",
    "version": 3
   },
   "file_extension": ".py",
   "mimetype": "text/x-python",
   "name": "python",
   "nbconvert_exporter": "python",
   "pygments_lexer": "ipython3",
   "version": "3.12.1"
  }
 },
 "nbformat": 4,
 "nbformat_minor": 2
}

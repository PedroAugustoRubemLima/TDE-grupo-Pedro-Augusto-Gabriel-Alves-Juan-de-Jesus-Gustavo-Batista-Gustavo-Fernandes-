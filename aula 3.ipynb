{
 "cells": [
  {
   "cell_type": "code",
   "execution_count": 4,
   "metadata": {},
   "outputs": [
    {
     "name": "stdout",
     "output_type": "stream",
     "text": [
      "3\n",
      "5\n",
      "7\n",
      "9\n",
      "11\n",
      "13\n"
     ]
    }
   ],
   "source": [
    "soma = 1\n",
    "while soma < 12:\n",
    "    soma = soma + 2\n",
    "    print(soma)\n",
    "\n"
   ]
  },
  {
   "cell_type": "code",
   "execution_count": 5,
   "metadata": {},
   "outputs": [
    {
     "name": "stdout",
     "output_type": "stream",
     "text": [
      "1 5\n",
      "1 6\n",
      "1 7\n",
      "1 8\n",
      "2 5\n",
      "2 6\n",
      "2 7\n",
      "2 8\n",
      "3 5\n",
      "3 6\n",
      "3 7\n",
      "3 8\n",
      "4 5\n",
      "4 6\n",
      "4 7\n",
      "4 8\n"
     ]
    }
   ],
   "source": [
    "for i in [1,2,3,4]:\n",
    "    for j in [5,6,7,8]:\n",
    "        print(i,j)"
   ]
  }
 ],
 "metadata": {
  "kernelspec": {
   "display_name": "Python 3",
   "language": "python",
   "name": "python3"
  },
  "language_info": {
   "codemirror_mode": {
    "name": "ipython",
    "version": 3
   },
   "file_extension": ".py",
   "mimetype": "text/x-python",
   "name": "python",
   "nbconvert_exporter": "python",
   "pygments_lexer": "ipython3",
   "version": "3.12.1"
  }
 },
 "nbformat": 4,
 "nbformat_minor": 2
}

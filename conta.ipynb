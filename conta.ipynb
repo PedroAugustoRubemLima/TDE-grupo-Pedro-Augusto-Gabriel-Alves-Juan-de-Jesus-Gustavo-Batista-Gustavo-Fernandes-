{
 "cells": [
  {
   "cell_type": "code",
   "execution_count": 22,
   "metadata": {},
   "outputs": [],
   "source": [
    "class Conta:\n",
    "    def __init__(self,saldo,titular):\n",
    "        self.saldo = saldo\n",
    "        self.titular = titular\n",
    "    def depositar(self,deposito):\n",
    "        self.saldo += deposito\n",
    "        print(f\"saldo atual={self.saldo}\")\n",
    "    def sacar(self,saque):\n",
    "       if self.saldo >= saque:\n",
    "        self.saldo -= saque\n",
    "        print(f\"saldo atual={self.saldo}\")\n",
    "       else:\n",
    "           print(\"Saldo insuficiente\")"
   ]
  },
  {
   "cell_type": "code",
   "execution_count": 25,
   "metadata": {},
   "outputs": [
    {
     "name": "stdout",
     "output_type": "stream",
     "text": [
      "saldo atual=300\n",
      "saldo atual=200\n",
      "Saldo insuficiente\n"
     ]
    }
   ],
   "source": [
    "id1 = Conta(0,\"PERORIN\")\n",
    "id1.depositar(300)\n",
    "id1.saldo\n",
    "\n",
    "id1.sacar(100)\n",
    "id1.sacar(1000)"
   ]
  }
 ],
 "metadata": {
  "kernelspec": {
   "display_name": "Python 3",
   "language": "python",
   "name": "python3"
  },
  "language_info": {
   "codemirror_mode": {
    "name": "ipython",
    "version": 3
   },
   "file_extension": ".py",
   "mimetype": "text/x-python",
   "name": "python",
   "nbconvert_exporter": "python",
   "pygments_lexer": "ipython3",
   "version": "3.12.1"
  }
 },
 "nbformat": 4,
 "nbformat_minor": 2
}

{
 "cells": [
  {
   "cell_type": "code",
   "execution_count": 4,
   "metadata": {},
   "outputs": [
    {
     "name": "stdout",
     "output_type": "stream",
     "text": [
      "o pintinho:\n",
      "não explodiu\n"
     ]
    }
   ],
   "source": [
    "pintinho_foi_peidar = 0\n",
    "tinha_cu = 0\n",
    "print(\"o pintinho:\")\n",
    "if (pintinho_foi_peidar == 1) and (tinha_cu == 0):\n",
    "    print(\"explodiu\")\n",
    "elif (pintinho_foi_peidar == 0) and (tinha_cu == 1):\n",
    "    print(\"não explodiu\")\n",
    "elif (pintinho_foi_peidar == 0) and (tinha_cu == 0):\n",
    "    print(\"não explodiu\")\n",
    "elif (pintinho_foi_peidar == 1) and (tinha_cu == 1):\n",
    "     print(\"não explodiu\")\n",
    "else:\n",
    "    print(\"error\")"
   ]
  },
  {
   "cell_type": "code",
   "execution_count": null,
   "metadata": {},
   "outputs": [],
   "source": []
  }
 ],
 "metadata": {
  "kernelspec": {
   "display_name": "Python 3",
   "language": "python",
   "name": "python3"
  },
  "language_info": {
   "codemirror_mode": {
    "name": "ipython",
    "version": 3
   },
   "file_extension": ".py",
   "mimetype": "text/x-python",
   "name": "python",
   "nbconvert_exporter": "python",
   "pygments_lexer": "ipython3",
   "version": "3.12.1"
  }
 },
 "nbformat": 4,
 "nbformat_minor": 2
}

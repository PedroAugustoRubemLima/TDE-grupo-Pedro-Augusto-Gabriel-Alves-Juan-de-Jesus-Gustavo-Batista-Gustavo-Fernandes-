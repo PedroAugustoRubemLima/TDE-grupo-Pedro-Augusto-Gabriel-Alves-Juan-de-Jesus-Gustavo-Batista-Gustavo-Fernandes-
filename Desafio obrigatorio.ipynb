{
 "cells": [
  {
   "cell_type": "code",
   "execution_count": 21,
   "metadata": {},
   "outputs": [
    {
     "data": {
      "text/plain": [
       "'Alerta Alto'"
      ]
     },
     "execution_count": 21,
     "metadata": {},
     "output_type": "execute_result"
    }
   ],
   "source": [
    "\n",
    "Alerta = 4\n",
    "Alerta in [1,2,3]\n",
    "base = \"CLIENTES\"\n",
    "Etapa = \"EXTRAÇÃO\"\n",
    "def alerta(Alerta,base,etapa):\n",
    "    if Alerta == 1:\n",
    "         return(\"Alerta baixo\")\n",
    "    elif Alerta == 2:\n",
    "         return(\"Alerta Medio\")\n",
    "    elif Alerta == 3:\n",
    "         return(\"Alerta Alto\")\n",
    "    else:\n",
    "        print(\"error\")\n",
    "alerta(3,\"CLIENTES\",\"EXTRAÇÃO\")\n",
    "\n",
    "\n",
    "\n",
    "\n"
   ]
  }
 ],
 "metadata": {
  "kernelspec": {
   "display_name": "Python 3",
   "language": "python",
   "name": "python3"
  },
  "language_info": {
   "codemirror_mode": {
    "name": "ipython",
    "version": 3
   },
   "file_extension": ".py",
   "mimetype": "text/x-python",
   "name": "python",
   "nbconvert_exporter": "python",
   "pygments_lexer": "ipython3",
   "version": "undefined.undefined.undefined"
  }
 },
 "nbformat": 4,
 "nbformat_minor": 2
}

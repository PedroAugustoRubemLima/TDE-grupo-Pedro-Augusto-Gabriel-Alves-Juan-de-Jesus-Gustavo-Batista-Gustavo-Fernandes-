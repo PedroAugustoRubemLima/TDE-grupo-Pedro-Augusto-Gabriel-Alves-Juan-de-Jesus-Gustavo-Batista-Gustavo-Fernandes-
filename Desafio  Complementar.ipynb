{
 "cells": [
  {
   "cell_type": "code",
   "execution_count": 13,
   "metadata": {},
   "outputs": [
    {
     "name": "stdout",
     "output_type": "stream",
     "text": [
      "Coloque seu peso: 70 e sua altura: 1.65  e Esse é o seu indice de massa corporal: 25.71166207529844\n"
     ]
    }
   ],
   "source": [
    "peso = input(\"Seu peso:\")\n",
    "altura = input(\"Sua altura:\")\n",
    "float(peso) == \"seu peso\"\n",
    "float(altura) == \"sua altura\"\n",
    "x = float(peso)\n",
    "y = float(altura)\n",
    "F = y**2\n",
    "IMC = z = x/F\n",
    "print(\"Coloque seu peso:\", peso, \"e sua altura:\", altura, \" e Esse é o seu indice de massa corporal:\", IMC)"
   ]
  }
 ],
 "metadata": {
  "kernelspec": {
   "display_name": "Python 3",
   "language": "python",
   "name": "python3"
  },
  "language_info": {
   "codemirror_mode": {
    "name": "ipython",
    "version": 3
   },
   "file_extension": ".py",
   "mimetype": "text/x-python",
   "name": "python",
   "nbconvert_exporter": "python",
   "pygments_lexer": "ipython3",
   "version": "3.12.1"
  }
 },
 "nbformat": 4,
 "nbformat_minor": 2
}

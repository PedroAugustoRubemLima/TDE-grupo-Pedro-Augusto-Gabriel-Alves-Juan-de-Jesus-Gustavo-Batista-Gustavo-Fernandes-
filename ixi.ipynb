{
 "cells": [
  {
   "cell_type": "code",
   "execution_count": 13,
   "metadata": {},
   "outputs": [
    {
     "name": "stdout",
     "output_type": "stream",
     "text": [
      "Média anual: 51.0\n",
      "Frequência total: 98.0 %\n",
      "status = reprovado\n"
     ]
    }
   ],
   "source": [
    "media = float(input(\"Média do aluno:\"))\n",
    "faltas = int(input(\"faltas do aluno:\"))\n",
    "aulas_totais = 50\n",
    "frequência_percentual = 1- faltas/aulas_totais\n",
    "\n",
    "print(\"Média anual:\",media*10)\n",
    "print(\"Frequência total:\",frequência_percentual*100,\"%\")\n",
    "\n",
    "if media >= 6 and frequência_percentual >= 0.75:\n",
    "     print(\"status = aprovado\")\n",
    "elif media in range(4,6) and frequência_percentual >= 0.75:\n",
    "     print(\"status = recuperação\")\n",
    "else:\n",
    "     print(\"status = reprovado\")\n",
    "\n"
   ]
  },
  {
   "cell_type": "code",
   "execution_count": null,
   "metadata": {},
   "outputs": [],
   "source": []
  }
 ],
 "metadata": {
  "kernelspec": {
   "display_name": "Python 3",
   "language": "python",
   "name": "python3"
  },
  "language_info": {
   "codemirror_mode": {
    "name": "ipython",
    "version": 3
   },
   "file_extension": ".py",
   "mimetype": "text/x-python",
   "name": "python",
   "nbconvert_exporter": "python",
   "pygments_lexer": "ipython3",
   "version": "3.12.1"
  }
 },
 "nbformat": 4,
 "nbformat_minor": 2
}
